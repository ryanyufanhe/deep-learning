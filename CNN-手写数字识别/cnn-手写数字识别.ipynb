{
 "cells": [
  {
   "cell_type": "markdown",
   "source": [
    "# 手写数字识别"
   ],
   "metadata": {}
  },
  {
   "cell_type": "markdown",
   "source": [
    "## 加载相关库"
   ],
   "metadata": {}
  },
  {
   "cell_type": "code",
   "execution_count": 1,
   "source": [
    "import tensorflow as tf\n",
    "from tensorflow.keras import datasets, layers, optimizers\n",
    "import numpy as np"
   ],
   "outputs": [
    {
     "output_type": "stream",
     "name": "stdout",
     "text": [
      "Init Plugin\n",
      "Init Graph Optimizer\n",
      "Init Kernel\n"
     ]
    }
   ],
   "metadata": {}
  },
  {
   "cell_type": "markdown",
   "source": [
    "## 加载相关数据"
   ],
   "metadata": {}
  },
  {
   "cell_type": "code",
   "execution_count": 2,
   "source": [
    "(train_data, test_data) = datasets.mnist.load_data()\n",
    "print('train_dataset: ', train_data[0].shape, train_data[1].shape)\n",
    "print('test_dataset: ', test_data[0].shape, test_data[1].shape)"
   ],
   "outputs": [
    {
     "output_type": "stream",
     "name": "stdout",
     "text": [
      "train_dataset:  (60000, 28, 28) (60000,)\n",
      "test_dataset:  (10000, 28, 28) (10000,)\n"
     ]
    }
   ],
   "metadata": {}
  },
  {
   "cell_type": "markdown",
   "source": [
    "## 建模"
   ],
   "metadata": {}
  },
  {
   "cell_type": "markdown",
   "source": [
    "### DNN"
   ],
   "metadata": {}
  },
  {
   "cell_type": "code",
   "execution_count": 19,
   "source": [
    "train_x = tf.convert_to_tensor(train_data[0], dtype=tf.float32) / 255. \n",
    "test_x = tf.convert_to_tensor(test_data[0], dtype=tf.float32) / 255.\n",
    "\n",
    "train_y = tf.convert_to_tensor(train_data[1])\n",
    "test_y = tf.convert_to_tensor(test_data[1], dtype=tf.float32)\n",
    "\n",
    "train_x = tf.reshape(train_x, (-1, 28*28))\n",
    "test_x = tf.reshape(test_x, (-1, 28*28))\n",
    "\n",
    "\n",
    "train_db = tf.data.Dataset.from_tensor_slices((train_x, train_y)).batch(100)\n",
    "test_db = tf.data.Dataset.from_tensor_slices((test_x, test_y)).batch(100)"
   ],
   "outputs": [],
   "metadata": {}
  },
  {
   "cell_type": "code",
   "execution_count": 20,
   "source": [
    "class DNN(tf.keras.Model):\n",
    "    def __init__(self):\n",
    "        super(DNN, self).__init__()\n",
    "        self.linear_1 = layers.Dense(512, activation='relu')\n",
    "        self.linear_2 = layers.Dense(256, activation='relu')\n",
    "        self.linear_3 = layers.Dense(10)\n",
    "\n",
    "    def call(self, x):\n",
    "        x = self.linear_1(x)\n",
    "        x = self.linear_2(x)\n",
    "        x = self.linear_3(x)\n",
    "        return x\n",
    "\n",
    "model = DNN()"
   ],
   "outputs": [],
   "metadata": {}
  },
  {
   "cell_type": "code",
   "execution_count": 21,
   "source": [
    "loss_function = tf.keras.losses.SparseCategoricalCrossentropy(from_logits=True)\n",
    "optimizer = optimizers.Adam()"
   ],
   "outputs": [],
   "metadata": {}
  },
  {
   "cell_type": "code",
   "execution_count": 22,
   "source": [
    "train_loss = tf.keras.metrics.Mean(name='train_loss')\n",
    "train_accuracy = tf.keras.metrics.SparseCategoricalAccuracy(name='train_accuracy')\n",
    "\n",
    "test_loss = tf.keras.metrics.Mean(name='test_loss')\n",
    "test_accuracy = tf.keras.metrics.SparseCategoricalAccuracy(name='test_accuracy')"
   ],
   "outputs": [],
   "metadata": {}
  },
  {
   "cell_type": "code",
   "execution_count": 24,
   "source": [
    "@tf.function\n",
    "def train_step(images, labels):\n",
    "    with tf.GradientTape() as tape:\n",
    "        prediction = model(images)\n",
    "        loss = loss_function(labels, prediction)\n",
    "    gradients = tape.gradient(loss, model.trainable_variables)\n",
    "    optimizer.apply_gradients(zip(gradients, model.trainable_variables))\n",
    "\n",
    "    train_loss(loss)\n",
    "    train_accuracy(labels, prediction)\n",
    "\n",
    "\n",
    "@tf.function\n",
    "def test_step(images, labels):\n",
    "  predictions = model(images)\n",
    "  t_loss = loss_function(labels, predictions)\n",
    "\n",
    "  test_loss(t_loss)\n",
    "  test_accuracy(labels, predictions)\n",
    "        "
   ],
   "outputs": [],
   "metadata": {}
  },
  {
   "cell_type": "code",
   "execution_count": 26,
   "source": [
    "EPOCHS = 10\n",
    "\n",
    "\n",
    "for epoch in range(EPOCHS):\n",
    "    train_loss.reset_states()\n",
    "    train_accuracy.reset_states()\n",
    "    test_loss.reset_states()\n",
    "    test_accuracy.reset_states()\n",
    "\n",
    "    for images, labels in train_db:\n",
    "        train_step(images, labels)\n",
    "\n",
    "    for test_images, test_labels in test_db:\n",
    "        test_step(test_images, test_labels)\n",
    "\n",
    "    template = 'Epoch {}, Loss: {}, Accuracy: {}%, Test Loss: {}, Test Accuracy: {}%'\n",
    "        \n",
    "    print(template.format(epoch + 1,\n",
    "                          train_loss.result(), \n",
    "                          train_accuracy.result() * 100,\n",
    "                          test_loss.result(),\n",
    "                          test_accuracy.result() * 100))\n",
    "    \n",
    "        "
   ],
   "outputs": [
    {
     "output_type": "stream",
     "name": "stdout",
     "text": [
      "Epoch 1, Loss: 0.06419120728969574, Accuracy: 98.03333282470703%, Test Loss: 0.10958830267190933, Test Accuracy: 96.43000030517578%\n",
      "Epoch 2, Loss: 0.04327501356601715, Accuracy: 98.61833190917969%, Test Loss: 0.12394493073225021, Test Accuracy: 96.34000396728516%\n",
      "Epoch 3, Loss: 0.029262429103255272, Accuracy: 99.09000396728516%, Test Loss: 0.08454370498657227, Test Accuracy: 97.61000061035156%\n",
      "Epoch 4, Loss: 0.025354649871587753, Accuracy: 99.16333770751953%, Test Loss: 0.10469432920217514, Test Accuracy: 97.25%\n",
      "Epoch 5, Loss: 0.025377264246344566, Accuracy: 99.15333557128906%, Test Loss: 0.0848904624581337, Test Accuracy: 97.68000030517578%\n",
      "Epoch 6, Loss: 0.01742452196776867, Accuracy: 99.41000366210938%, Test Loss: 0.07742539048194885, Test Accuracy: 98.1500015258789%\n",
      "Epoch 7, Loss: 0.012309685349464417, Accuracy: 99.59333801269531%, Test Loss: 0.10285089910030365, Test Accuracy: 97.59000396728516%\n",
      "Epoch 8, Loss: 0.014455433003604412, Accuracy: 99.50666809082031%, Test Loss: 0.08237249404191971, Test Accuracy: 98.12000274658203%\n",
      "Epoch 9, Loss: 0.017522668465971947, Accuracy: 99.4183349609375%, Test Loss: 0.0906735509634018, Test Accuracy: 97.99000549316406%\n",
      "Epoch 10, Loss: 0.011995967477560043, Accuracy: 99.6066665649414%, Test Loss: 0.08494697511196136, Test Accuracy: 98.07000732421875%\n"
     ]
    }
   ],
   "metadata": {}
  },
  {
   "cell_type": "code",
   "execution_count": 9,
   "source": [
    "model.summary()"
   ],
   "outputs": [
    {
     "output_type": "stream",
     "name": "stdout",
     "text": [
      "Model: \"dnn\"\n",
      "_________________________________________________________________\n",
      "Layer (type)                 Output Shape              Param #   \n",
      "=================================================================\n",
      "dense (Dense)                multiple                  401920    \n",
      "_________________________________________________________________\n",
      "dense_1 (Dense)              multiple                  131328    \n",
      "_________________________________________________________________\n",
      "dense_2 (Dense)              multiple                  2570      \n",
      "=================================================================\n",
      "Total params: 535,818\n",
      "Trainable params: 535,818\n",
      "Non-trainable params: 0\n",
      "_________________________________________________________________\n"
     ]
    }
   ],
   "metadata": {}
  },
  {
   "cell_type": "code",
   "execution_count": 32,
   "source": [
    "train_x = tf.convert_to_tensor(train_data[0], dtype=tf.float32) / 255. \n",
    "test_x = tf.convert_to_tensor(test_data[0], dtype=tf.float32) / 255.\n",
    "\n",
    "train_y = tf.convert_to_tensor(train_data[1])\n",
    "test_y = tf.convert_to_tensor(test_data[1], dtype=tf.float32)\n",
    "\n",
    "train_x = tf.reshape(train_x, (-1, 28, 28, 1))\n",
    "test_x = tf.reshape(test_x, (-1, 28, 28, 1))\n",
    "\n",
    "\n",
    "train_db = tf.data.Dataset.from_tensor_slices((train_x, train_y)).batch(100)\n",
    "test_db = tf.data.Dataset.from_tensor_slices((test_x, test_y)).batch(100)"
   ],
   "outputs": [],
   "metadata": {}
  },
  {
   "cell_type": "code",
   "execution_count": 33,
   "source": [
    "class CNN(tf.keras.Model):\n",
    "    def __init__(self):\n",
    "        super().__init__()\n",
    "        self.conv_1 = layers.Conv2D(32, (3, 3), activation='relu')\n",
    "        self.conv_2 = layers.Conv2D(64, (3, 3), activation='relu')\n",
    "        self.conv_3 = layers.Conv2D(64, (3, 3), activation='relu')\n",
    "        self.linear_1 = layers.Dense(64, activation='relu')\n",
    "        self.linear_2 = layers.Dense(10)\n",
    "        self.pooling = layers.MaxPool2D((2, 2))\n",
    "        self.flatten = layers.Flatten()\n",
    "\n",
    "    def call(self, x):\n",
    "        x = self.conv_1(x)\n",
    "        x = self.pooling(x)\n",
    "        x = self.conv_2(x)\n",
    "        x = self.pooling(x)\n",
    "        x = self.conv_3(x)\n",
    "        x = self.flatten(x)\n",
    "        x = self.linear_1(x)\n",
    "        x = self.linear_2(x)\n",
    "        return x\n",
    "\n",
    "model = CNN()"
   ],
   "outputs": [],
   "metadata": {}
  },
  {
   "cell_type": "code",
   "execution_count": 34,
   "source": [
    "@tf.function\n",
    "def train_step(images, labels):\n",
    "    with tf.GradientTape() as tape:\n",
    "        prediction = model(images)\n",
    "        loss = loss_function(labels, prediction)\n",
    "    gradients = tape.gradient(loss, model.trainable_variables)\n",
    "    optimizer.apply_gradients(zip(gradients, model.trainable_variables))\n",
    "\n",
    "    train_loss(loss)\n",
    "    train_accuracy(labels, prediction)\n",
    "\n",
    "\n",
    "@tf.function\n",
    "def test_step(images, labels):\n",
    "  predictions = model(images)\n",
    "  t_loss = loss_function(labels, predictions)\n",
    "\n",
    "  test_loss(t_loss)\n",
    "  test_accuracy(labels, predictions)"
   ],
   "outputs": [],
   "metadata": {}
  },
  {
   "cell_type": "code",
   "execution_count": 35,
   "source": [
    "EPOCHS = 10\n",
    "\n",
    "\n",
    "for epoch in range(EPOCHS):\n",
    "    train_loss.reset_states()\n",
    "    train_accuracy.reset_states()\n",
    "    test_loss.reset_states()\n",
    "    test_accuracy.reset_states()\n",
    "\n",
    "    for images, labels in train_db:\n",
    "        train_step(images, labels)\n",
    "\n",
    "    for test_images, test_labels in test_db:\n",
    "        test_step(test_images, test_labels)\n",
    "\n",
    "    template = 'Epoch {}, Loss: {:.2}, Accuracy: {}%, Test Loss: {:.2}, Test Accuracy: {}%'\n",
    "        \n",
    "    print(template.format(epoch + 1,\n",
    "                          train_loss.result(), \n",
    "                          train_accuracy.result() * 100,\n",
    "                          test_loss.result(),\n",
    "                          test_accuracy.result() * 100))"
   ],
   "outputs": [
    {
     "output_type": "stream",
     "name": "stderr",
     "text": [
      "2021-08-26 22:02:38.508520: I tensorflow/core/grappler/optimizers/custom_graph_optimizer_registry.cc:112] Plugin optimizer for device_type GPU is enabled.\n",
      "2021-08-26 22:02:45.013576: I tensorflow/core/grappler/optimizers/custom_graph_optimizer_registry.cc:112] Plugin optimizer for device_type GPU is enabled.\n"
     ]
    },
    {
     "output_type": "stream",
     "name": "stdout",
     "text": [
      "Epoch 1, Loss: 0.13, Accuracy: 95.91667175292969%, Test Loss: 0.044, Test Accuracy: 98.44000244140625%\n",
      "Epoch 2, Loss: 0.039, Accuracy: 98.80833435058594%, Test Loss: 0.034, Test Accuracy: 98.79000091552734%\n",
      "Epoch 3, Loss: 0.027, Accuracy: 99.16999816894531%, Test Loss: 0.032, Test Accuracy: 98.77000427246094%\n",
      "Epoch 4, Loss: 0.019, Accuracy: 99.41666412353516%, Test Loss: 0.033, Test Accuracy: 98.95000457763672%\n",
      "Epoch 5, Loss: 0.014, Accuracy: 99.59833526611328%, Test Loss: 0.041, Test Accuracy: 98.77000427246094%\n",
      "Epoch 6, Loss: 0.012, Accuracy: 99.63166809082031%, Test Loss: 0.043, Test Accuracy: 98.80000305175781%\n",
      "Epoch 7, Loss: 0.011, Accuracy: 99.67832946777344%, Test Loss: 0.042, Test Accuracy: 98.81000518798828%\n",
      "Epoch 8, Loss: 0.0095, Accuracy: 99.69499969482422%, Test Loss: 0.045, Test Accuracy: 98.9000015258789%\n",
      "Epoch 9, Loss: 0.0084, Accuracy: 99.7316665649414%, Test Loss: 0.043, Test Accuracy: 98.9000015258789%\n",
      "Epoch 10, Loss: 0.0072, Accuracy: 99.7683334350586%, Test Loss: 0.036, Test Accuracy: 99.10000610351562%\n"
     ]
    }
   ],
   "metadata": {}
  },
  {
   "cell_type": "code",
   "execution_count": null,
   "source": [
    "model.summary()"
   ],
   "outputs": [],
   "metadata": {}
  }
 ],
 "metadata": {
  "kernelspec": {
   "name": "python3",
   "display_name": "Python 3.8.10 64-bit ('ai': conda)"
  },
  "language_info": {
   "name": "python",
   "version": "3.8.10",
   "mimetype": "text/x-python",
   "codemirror_mode": {
    "name": "ipython",
    "version": 3
   },
   "pygments_lexer": "ipython3",
   "nbconvert_exporter": "python",
   "file_extension": ".py"
  },
  "interpreter": {
   "hash": "0b206347cbf1c849f0a4287732bf2bb6386e9e4f72ceb5a6d82fe819f05f0e07"
  }
 },
 "nbformat": 4,
 "nbformat_minor": 5
}