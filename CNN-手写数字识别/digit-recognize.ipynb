{
 "cells": [
  {
   "cell_type": "markdown",
   "source": [
    "# 手写数字识别"
   ],
   "metadata": {}
  },
  {
   "cell_type": "markdown",
   "source": [
    "## 加载相关库"
   ],
   "metadata": {}
  },
  {
   "cell_type": "code",
   "execution_count": 13,
   "source": [
    "import pandas as pd\n",
    "import numpy as np\n",
    "import matplotlib.pyplot as plt\n",
    "\n",
    "from sklearn.svm import SVC\n",
    "from lightgbm import LGBMClassifier\n",
    "\n",
    "import tensorflow as tf\n",
    "from tensorflow import keras\n",
    "from tensorflow.keras import layers\n",
    "from tensorflow.keras.models import Sequential"
   ],
   "outputs": [],
   "metadata": {}
  },
  {
   "cell_type": "markdown",
   "source": [
    "## 加载相关数据"
   ],
   "metadata": {}
  },
  {
   "cell_type": "code",
   "execution_count": 14,
   "source": [
    "train_data = pd.read_csv('train.csv')\n",
    "test_data = pd.read_csv('test.csv')"
   ],
   "outputs": [],
   "metadata": {}
  },
  {
   "cell_type": "markdown",
   "source": [
    "## 制作训练数据"
   ],
   "metadata": {}
  },
  {
   "cell_type": "code",
   "execution_count": 27,
   "source": [
    "train_x = train_data.loc[:, 'pixel0':]\n",
    "train_y = train_data.loc[:, 'label']\n",
    "test_x = test_data"
   ],
   "outputs": [],
   "metadata": {}
  },
  {
   "cell_type": "markdown",
   "source": [
    "## 建模"
   ],
   "metadata": {}
  },
  {
   "cell_type": "markdown",
   "source": [
    "### AlexNet"
   ],
   "metadata": {}
  },
  {
   "cell_type": "code",
   "execution_count": 30,
   "source": [
    "train_x = tf.constant(train_x, dtype=tf.float32)\n",
    "train_x = tf.reshape(train_x, [-1, 28, 28, 1])\n",
    "\n",
    "test_x = tf.constant(test_x, dtype=tf.float32)\n",
    "test_x = tf.reshape(test_x, [-1, 28, 28, 1])\n",
    "\n",
    "\n",
    "train_y = tf.one_hot(train_y, depth=10)"
   ],
   "outputs": [
    {
     "output_type": "stream",
     "name": "stdout",
     "text": [
      "tf.Tensor(\n",
      "[[0. 1. 0. ... 0. 0. 0.]\n",
      " [1. 0. 0. ... 0. 0. 0.]\n",
      " [0. 1. 0. ... 0. 0. 0.]\n",
      " ...\n",
      " [0. 0. 0. ... 1. 0. 0.]\n",
      " [0. 0. 0. ... 0. 0. 0.]\n",
      " [0. 0. 0. ... 0. 0. 1.]], shape=(42000, 10), dtype=float32)\n"
     ]
    }
   ],
   "metadata": {}
  },
  {
   "cell_type": "code",
   "execution_count": 31,
   "source": [
    "train_x, test_x = train_x / 255.0, test_x / 255.0"
   ],
   "outputs": [],
   "metadata": {}
  },
  {
   "cell_type": "code",
   "execution_count": 32,
   "source": [
    "class CNN(tf.keras.Model):\n",
    "    def __init__(self):\n",
    "        super().__init__()\n",
    "        self.conv_1 = layers.Conv2D(32, (3, 3), activation='relu')\n",
    "        self.conv_2 = layers.Conv2D(64, (3, 3), activation='relu')\n",
    "        self.conv_3 = layers.Conv2D(64, (3, 3), activation='relu')\n",
    "        self.linear_1 = layers.Dense(64, activation='relu')\n",
    "        self.linear_2 = layers.Dense(10)\n",
    "        self.pooling = layers.MaxPool2D((2, 2))\n",
    "        self.flatten = layers.Flatten()\n",
    "\n",
    "\n",
    "    def call(self, input):\n",
    "        x = self.conv_1(input)\n",
    "        x = self.pooling(x)\n",
    "        x = self.conv_2(x)\n",
    "        x = self.pooling(x)\n",
    "        x = self.conv_3(x)\n",
    "        x = self.flatten(x)\n",
    "        x = self.linear_1(x)\n",
    "        x = self.linear_2(x)\n",
    "        return x"
   ],
   "outputs": [],
   "metadata": {}
  },
  {
   "cell_type": "code",
   "execution_count": 34,
   "source": [
    "model = CNN()\n",
    "# optimizer = tf.keras.optimizers.SGD(learning_rate=0.01)\n",
    "loss_function = tf.keras.losses.sparse_categorical_crossentropy\n",
    "\n",
    "y_pred = model(train_x)\n",
    "\n",
    "with tf.GradientTape() as tape:\n",
    "    y_pred = model(train_x)\n",
    "    print(y_pred.shape, train_y.shape)\n",
    "    # loss = loss_function(y_pred, train_y)\n",
    "    # print(loss)\n",
    "\n",
    "\n",
    "# for i in range(10):\n",
    "    # with tf.GradientTape() as tape:\n",
    "    #     y_pred = model(train_x)\n",
    "    #     print(y_pred)\n",
    "        # loss = tf.reduce_mean(loss_function(y_pred, train_y))\n",
    "        # print(loss)\n",
    "    # grads = tape.gradient(loss, model.variables)\n",
    "    # optimizer.apply_gradients(grads_and_vars=zip(grads, model.variables))\n",
    "\n",
    "\n",
    "\n",
    "# model.compile(optimizer='adam',\n",
    "#               loss=tf.keras.losses.SparseCategoricalCrossentropy(from_logits=True),\n",
    "#               metrics=['accuracy'])"
   ],
   "outputs": [
    {
     "output_type": "stream",
     "name": "stdout",
     "text": [
      "(42000, 10)\n"
     ]
    },
    {
     "output_type": "stream",
     "name": "stderr",
     "text": [
      "Error: command buffer exited with error status.\n",
      "\tThe Metal Performance Shaders operations encoded on it may not have completed.\n",
      "\tError: \n",
      "\t(null)\n",
      "\tInsufficient Memory (00000008:kIOGPUCommandBufferCallbackErrorOutOfMemory)\n",
      "\t<AGXG13GFamilyCommandBuffer: 0x148cdf6f0>\n",
      "    label = <none> \n",
      "    device = <AGXG13GDevice: 0x13c713000>\n",
      "        name = Apple M1 \n",
      "    commandQueue = <AGXG13GFamilyCommandQueue: 0x13c6fe600>\n",
      "        label = <none> \n",
      "        device = <AGXG13GDevice: 0x13c713000>\n",
      "            name = Apple M1 \n",
      "    retainedReferences = 1\n",
      "Error: command buffer exited with error status.\n",
      "\tThe Metal Performance Shaders operations encoded on it may not have completed.\n",
      "\tError: \n",
      "\t(null)\n",
      "\tInsufficient Memory (00000008:kIOGPUCommandBufferCallbackErrorOutOfMemory)\n",
      "\t<AGXG13GFamilyCommandBuffer: 0x148cd87d0>\n",
      "    label = <none> \n",
      "    device = <AGXG13GDevice: 0x13c713000>\n",
      "        name = Apple M1 \n",
      "    commandQueue = <AGXG13GFamilyCommandQueue: 0x13c6fe600>\n",
      "        label = <none> \n",
      "        device = <AGXG13GDevice: 0x13c713000>\n",
      "            name = Apple M1 \n",
      "    retainedReferences = 1\n",
      "Error: command buffer exited with error status.\n",
      "\tThe Metal Performance Shaders operations encoded on it may not have completed.\n",
      "\tError: \n",
      "\t(null)\n",
      "\tInsufficient Memory (00000008:kIOGPUCommandBufferCallbackErrorOutOfMemory)\n",
      "\t<AGXG13GFamilyCommandBuffer: 0x128f2c8c0>\n",
      "    label = <none> \n",
      "    device = <AGXG13GDevice: 0x13c713000>\n",
      "        name = Apple M1 \n",
      "    commandQueue = <AGXG13GFamilyCommandQueue: 0x13c6fe600>\n",
      "        label = <none> \n",
      "        device = <AGXG13GDevice: 0x13c713000>\n",
      "            name = Apple M1 \n",
      "    retainedReferences = 1\n",
      "Error: command buffer exited with error status.\n",
      "\tThe Metal Performance Shaders operations encoded on it may not have completed.\n",
      "\tError: \n",
      "\t(null)\n",
      "\tInsufficient Memory (00000008:kIOGPUCommandBufferCallbackErrorOutOfMemory)\n",
      "\t<AGXG13GFamilyCommandBuffer: 0x128f2d9d0>\n",
      "    label = <none> \n",
      "    device = <AGXG13GDevice: 0x13c713000>\n",
      "        name = Apple M1 \n",
      "    commandQueue = <AGXG13GFamilyCommandQueue: 0x13c6fe600>\n",
      "        label = <none> \n",
      "        device = <AGXG13GDevice: 0x13c713000>\n",
      "            name = Apple M1 \n",
      "    retainedReferences = 1\n"
     ]
    },
    {
     "output_type": "stream",
     "name": "stdout",
     "text": [
      "tf.Tensor(\n",
      "[[ 0.02012751  0.11534774  0.02533238 ... -0.17168964 -0.02977245\n",
      "   0.03512058]\n",
      " [ 0.25503397  0.02657911  0.00591695 ... -0.1099663  -0.06091843\n",
      "   0.07188834]\n",
      " [ 0.03720182 -0.01115158 -0.01593997 ... -0.08132021 -0.07337895\n",
      "   0.0246255 ]\n",
      " ...\n",
      " [ 0.20608486 -0.0287444  -0.01842406 ... -0.04438282 -0.0446953\n",
      "   0.00852753]\n",
      " [ 0.13667293 -0.00573712  0.01723031 ... -0.0815163  -0.06738288\n",
      "  -0.01446836]\n",
      " [ 0.06192517 -0.0075605   0.000841   ... -0.10714072 -0.01160115\n",
      "   0.03381626]], shape=(42000, 10), dtype=float32) (42000, 10)\n"
     ]
    }
   ],
   "metadata": {}
  },
  {
   "cell_type": "code",
   "execution_count": 9,
   "source": [
    "history = model.fit(train_x, train_y, epochs=10)"
   ],
   "outputs": [
    {
     "output_type": "stream",
     "name": "stdout",
     "text": [
      "Epoch 1/10\n",
      "WARNING:tensorflow:AutoGraph could not transform <function Model.make_train_function.<locals>.train_function at 0x15452d670> and will run it as-is.\n",
      "Please report this to the TensorFlow team. When filing the bug, set the verbosity to 10 (on Linux, `export AUTOGRAPH_VERBOSITY=10`) and attach the full output.\n",
      "Cause: unsupported operand type(s) for -: 'NoneType' and 'int'\n",
      "To silence this warning, decorate the function with @tf.autograph.experimental.do_not_convert\n",
      "WARNING: AutoGraph could not transform <function Model.make_train_function.<locals>.train_function at 0x15452d670> and will run it as-is.\n",
      "Please report this to the TensorFlow team. When filing the bug, set the verbosity to 10 (on Linux, `export AUTOGRAPH_VERBOSITY=10`) and attach the full output.\n",
      "Cause: unsupported operand type(s) for -: 'NoneType' and 'int'\n",
      "To silence this warning, decorate the function with @tf.autograph.experimental.do_not_convert\n"
     ]
    },
    {
     "output_type": "stream",
     "name": "stderr",
     "text": [
      "2021-08-25 13:57:35.359716: I tensorflow/compiler/mlir/mlir_graph_optimization_pass.cc:116] None of the MLIR optimization passes are enabled (registered 2)\n",
      "2021-08-25 13:57:35.360128: W tensorflow/core/platform/profile_utils/cpu_utils.cc:126] Failed to get CPU frequency: 0 Hz\n"
     ]
    },
    {
     "output_type": "stream",
     "name": "stdout",
     "text": [
      "1313/1313 [==============================] - 8s 6ms/step - loss: 0.4168 - accuracy: 0.8692\n",
      "Epoch 2/10\n",
      "1313/1313 [==============================] - 8s 6ms/step - loss: 0.0539 - accuracy: 0.9830\n",
      "Epoch 3/10\n",
      "1313/1313 [==============================] - 8s 6ms/step - loss: 0.0367 - accuracy: 0.9890\n",
      "Epoch 4/10\n",
      "1313/1313 [==============================] - 8s 6ms/step - loss: 0.0272 - accuracy: 0.9915\n",
      "Epoch 5/10\n",
      "1313/1313 [==============================] - 8s 6ms/step - loss: 0.0212 - accuracy: 0.9931\n",
      "Epoch 6/10\n",
      "1313/1313 [==============================] - 8s 6ms/step - loss: 0.0195 - accuracy: 0.9938\n",
      "Epoch 7/10\n",
      "1313/1313 [==============================] - 8s 6ms/step - loss: 0.0177 - accuracy: 0.9945\n",
      "Epoch 8/10\n",
      "1313/1313 [==============================] - 8s 6ms/step - loss: 0.0095 - accuracy: 0.9963\n",
      "Epoch 9/10\n",
      "1313/1313 [==============================] - 8s 6ms/step - loss: 0.0107 - accuracy: 0.9960\n",
      "Epoch 10/10\n",
      "1313/1313 [==============================] - 8s 6ms/step - loss: 0.0090 - accuracy: 0.9974\n"
     ]
    }
   ],
   "metadata": {}
  },
  {
   "cell_type": "code",
   "execution_count": 28,
   "source": [
    "pred = np.argmax(model.predict(test_x), axis=-1).reshape(-1, 1)\n",
    "pred"
   ],
   "outputs": [
    {
     "output_type": "execute_result",
     "data": {
      "text/plain": [
       "array([[2],\n",
       "       [0],\n",
       "       [9],\n",
       "       ...,\n",
       "       [3],\n",
       "       [9],\n",
       "       [2]])"
      ]
     },
     "metadata": {},
     "execution_count": 28
    }
   ],
   "metadata": {}
  },
  {
   "cell_type": "markdown",
   "source": [
    "## 输出数据"
   ],
   "metadata": {}
  },
  {
   "cell_type": "code",
   "execution_count": 26,
   "source": [
    "image_id = np.array(range(1, 28000 + 1)).reshape(-1, 1)\n",
    "result = pd.DataFrame(data=np.concatenate([image_id, pred], axis=1), columns=['ImageId', 'Label'])"
   ],
   "outputs": [],
   "metadata": {}
  },
  {
   "cell_type": "code",
   "execution_count": 27,
   "source": [
    "result.to_csv('submission.csv', index=False)"
   ],
   "outputs": [],
   "metadata": {}
  },
  {
   "cell_type": "code",
   "execution_count": null,
   "source": [],
   "outputs": [],
   "metadata": {}
  }
 ],
 "metadata": {
  "kernelspec": {
   "name": "python3",
   "display_name": "Python 3.9.6 64-bit ('kaggle': conda)"
  },
  "language_info": {
   "name": "python",
   "version": "3.9.6",
   "mimetype": "text/x-python",
   "codemirror_mode": {
    "name": "ipython",
    "version": 3
   },
   "pygments_lexer": "ipython3",
   "nbconvert_exporter": "python",
   "file_extension": ".py"
  },
  "interpreter": {
   "hash": "4b0680feefa47f4e1de823341d4344f4e400df59502e6a9d125aef5842b15fb1"
  }
 },
 "nbformat": 4,
 "nbformat_minor": 5
}